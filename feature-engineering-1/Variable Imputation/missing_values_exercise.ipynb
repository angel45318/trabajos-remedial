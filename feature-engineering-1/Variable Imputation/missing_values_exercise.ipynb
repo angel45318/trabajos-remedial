{
 "cells": [
  {
   "cell_type": "markdown",
   "id": "name-cell",
   "metadata": {},
   "source": [
    "**Name: Angel gabriel zuñiga peralta**"
   ]
  },
  {
   "cell_type": "code",
   "execution_count": null,
   "id": "import-libs",
   "metadata": {},
   "outputs": [],
   "source": [
    "## Import libraries\n",
    "import pandas as pd\n",
    "import numpy as np\n",
    "import matplotlib.pyplot as plt\n",
    "import seaborn as sns\n",
    "import math"
   ]
  },
  {
   "cell_type": "code",
   "execution_count": null,
   "id": "read-dataset",
   "metadata": {},
   "outputs": [],
   "source": [
    "## Read dataset\n",
    "df = pd.read_csv(\"tratamiento_de_valores_faltantes.csv\")\n",
    "df.head()\n",
    "df['x2'].hist()"
   ]
  },
  {
   "cell_type": "code",
   "execution_count": null,
   "id": "missing-values",
   "metadata": {},
   "outputs": [],
   "source": [
    "## Remplazar Valores faltantes\n",
    "df['x1'].isna().sum()\n",
    "df['x1'].shape\n",
    "df['x1'].median()\n",
    "df['x1'].fillna(df['x1'].median(), inplace=True)\n",
    "\n",
    "df['x2'].isna().sum()\n",
    "df['x2'].fillna(df['x2'].mode()[0], inplace=True)\n",
    "df['x2']\n",
    "df['x2'].value_counts().shape"
   ]
  },
  {
   "cell_type": "code",
   "execution_count": null,
   "id": "random-x3",
   "metadata": {},
   "outputs": [],
   "source": [
    "random_value = np.random.choice(df['x3'].dropna(), 14)\n",
    "random_index = 0\n",
    "for i, v in df['x3'].items():\n",
    "    if pd.isna(v):\n",
    "        df.at[i, 'x3'] = random_value[random_index]\n",
    "        random_index += 1"
   ]
  },
  {
   "cell_type": "code",
   "execution_count": null,
   "id": "fill-x4",
   "metadata": {},
   "outputs": [],
   "source": [
    "df['x4'].fillna(df['x4'].mean(), inplace=True)"
   ]
  }
 ],
 "metadata": {
  "kernelspec": {
   "display_name": "Python 3",
   "language": "python",
   "name": "python3"
  },
  "language_info": {
   "codemirror_mode": {
    "name": "ipython",
    "version": 3
   },
   "file_extension": ".py",
   "mimetype": "text/x-python",
   "name": "python",
   "nbconvert_exporter": "python",
   "pygments_lexer": "ipython3",
   "version": "3.12.5"
  }
 },
 "nbformat": 4,
 "nbformat_minor": 5
}
